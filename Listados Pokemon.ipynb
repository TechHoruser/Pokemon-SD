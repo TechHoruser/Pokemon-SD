{
 "metadata": {
  "name": "",
  "signature": "sha256:2f6faf7aa0c57e85cf308687900375b7991ce9f40249076477413dd60b977ecb"
 },
 "nbformat": 3,
 "nbformat_minor": 0,
 "worksheets": [
  {
   "cells": [
    {
     "cell_type": "code",
     "collapsed": false,
     "input": [
      "def quitarsaltosdelinea(cadena):\n",
      "    reemplazar_por = \"\"\n",
      "    buscar = \"\\n\"\n",
      "    cadena = cadena.replace(buscar, reemplazar_por)\n",
      " \n",
      "    return(cadena)"
     ],
     "language": "python",
     "metadata": {},
     "outputs": [],
     "prompt_number": 1
    },
    {
     "cell_type": "code",
     "collapsed": false,
     "input": [
      "import urllib\n",
      "import re\n",
      "\n",
      "def listado_pokemon(generacion = 0):\n",
      "    # Web donde aparece los pokemons\n",
      "    response = urllib.urlopen(\"http://pokemondb.net/pokedex/national\")\n",
      "    response.code\n",
      "    html = response.read().decode(\"utf8\")\n",
      "    \n",
      "    # Expresion que discrima el nombre de los pokemons\n",
      "    gen = \"\"\n",
      "    if generacion != 0 and generacion == int(generacion) and generacion >= 1 and generacion <= 6:\n",
      "        gen = str(generacion)\n",
      "        \n",
      "    expresion = 'class=\"pkg.*?pkgG' + gen + '.*class=\"ent-name\".*?>(.*?)<'\n",
      "\n",
      "    listadoPokemon = re.findall(expresion,html)\n",
      "\n",
      "    if not listadoPokemon:\n",
      "        print \"No ha encontrado ning\u00fan pokemon\"\n",
      "    else:\n",
      "        return(listadoPokemon)"
     ],
     "language": "python",
     "metadata": {},
     "outputs": [],
     "prompt_number": 2
    },
    {
     "cell_type": "code",
     "collapsed": false,
     "input": [
      "lPkm = listado_pokemon(1)\n",
      "#print len(lPkm)\n",
      "#print lPkm"
     ],
     "language": "python",
     "metadata": {},
     "outputs": [],
     "prompt_number": 3
    },
    {
     "cell_type": "code",
     "collapsed": false,
     "input": [
      "from Tkinter import *\n",
      "    \n",
      "master = Tk()\n",
      "\n",
      "listbox = Listbox(master)\n",
      "listbox.pack()\n",
      "\n",
      "listbox.insert(END, \"LISTADO POKEMON\")\n",
      "listbox.insert(END, \"\")\n",
      "\n",
      "for item in lPkm:\n",
      "    listbox.insert(END, item)\n",
      "\n",
      "mainloop()"
     ],
     "language": "python",
     "metadata": {},
     "outputs": [],
     "prompt_number": 4
    },
    {
     "cell_type": "code",
     "collapsed": false,
     "input": [
      "def sublist(lista, e):\n",
      "    return list(lista[0:lista.index(e)] + lista[lista.index(e)+1:len(lista)])"
     ],
     "language": "python",
     "metadata": {},
     "outputs": [],
     "prompt_number": 5
    },
    {
     "cell_type": "code",
     "collapsed": false,
     "input": [
      "listas = []\n",
      "\n",
      "def encadena (lista, nuevaLista = []):\n",
      "    #Primer ciclo\n",
      "    if (len(nuevaLista) == 0):\n",
      "        for e in lista:\n",
      "            encadena(sublist(lista,e), [e])\n",
      "    \n",
      "    #Resto de ciclos\n",
      "    else:\n",
      "        cambios = False\n",
      "\n",
      "        for e in lista:\n",
      "            #En caso de que el primer car\u00e1cter de \"e\" coincida con el \u00faltimo del \u00faltimo elemento de \"nueva lista\"\n",
      "            #se llamar\u00e1 de nuevo a encadena pero insertando en nueva lista \"e\" y suprimiendolo de lista.\n",
      "            if e[0].upper() == nuevaLista[-1][-1].upper():\n",
      "                encadena(sublist(lista,e), list(nuevaLista + [e]))\n",
      "                cambios = True #Se ha realizado un cambio\n",
      "        \n",
      "        #Si no se sealizan cambios se inserta esa \"lista final\" en \"listas\"\n",
      "        if not cambios:\n",
      "            #print (\"A\u00f1adido, con longitud: \" + str(len(nuevaLista)))\n",
      "            listas.append(nuevaLista)"
     ],
     "language": "python",
     "metadata": {},
     "outputs": [],
     "prompt_number": 6
    },
    {
     "cell_type": "code",
     "collapsed": false,
     "input": [
      "l=['Adrian',\n",
      "   'Cristian',\n",
      "   'Carlos',\n",
      "   'Curro',\n",
      "   'Jose',\n",
      "   'Andrea',\n",
      "   'Ana',\n",
      "   'Fernando',\n",
      "   'Juan',\n",
      "   'Currito',\n",
      "   'Josefa',\n",
      "   'Alonso']\n",
      "encadena(lista = l)"
     ],
     "language": "python",
     "metadata": {},
     "outputs": [],
     "prompt_number": 7
    },
    {
     "cell_type": "code",
     "collapsed": false,
     "input": [
      "mayorLista = []\n",
      "for e in listas:\n",
      "    if (len(mayorLista)<len(e)):\n",
      "        mayorLista=e\n",
      "\n",
      "print \"Tama\u00f1o: \" + str(len(mayorLista))"
     ],
     "language": "python",
     "metadata": {},
     "outputs": [
      {
       "output_type": "stream",
       "stream": "stdout",
       "text": [
        "Tama\u00f1o: 4\n"
       ]
      }
     ],
     "prompt_number": 9
    }
   ],
   "metadata": {}
  }
 ]
}